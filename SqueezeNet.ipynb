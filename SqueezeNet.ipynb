{
 "cells": [
  {
   "cell_type": "code",
   "execution_count": 1,
   "metadata": {},
   "outputs": [],
   "source": [
    "import torch\n",
    "import torchvision.models as models"
   ]
  },
  {
   "cell_type": "code",
   "execution_count": 2,
   "metadata": {},
   "outputs": [],
   "source": [
    "resnet18 = models.resnet18()\n",
    "alexnet = models.alexnet()\n",
    "vgg16 = models.vgg16()\n",
    "squeezenet = models.squeezenet1_0()\n",
    "densenet = models.densenet161()\n",
    "inception = models.inception_v3()\n",
    "googlenet = models.googlenet()\n",
    "shufflenet = models.shufflenet_v2_x1_0()\n",
    "mobilenet = models.mobilenet_v2()\n",
    "resnext50_32x4d = models.resnext50_32x4d()"
   ]
  },
  {
   "cell_type": "code",
   "execution_count": 8,
   "metadata": {},
   "outputs": [
    {
     "name": "stdout",
     "output_type": "stream",
     "text": [
      "11.689512\n",
      "61.10084\n",
      "138.357544\n",
      "1.248424\n",
      "28.681\n",
      "27.161264\n",
      "13.004888\n",
      "2.278604\n",
      "3.504872\n",
      "25.028904\n"
     ]
    }
   ],
   "source": [
    "print(sum(p.numel() for p in resnet18.parameters() if p.requires_grad)/1e6)\n",
    "print(sum(p.numel() for p in alexnet.parameters() if p.requires_grad)/1e6)\n",
    "print(sum(p.numel() for p in vgg16.parameters() if p.requires_grad)/1e6)\n",
    "print(sum(p.numel() for p in squeezenet.parameters() if p.requires_grad)/1e6)\n",
    "print(sum(p.numel() for p in densenet.parameters() if p.requires_grad)/1e6)\n",
    "print(sum(p.numel() for p in inception.parameters() if p.requires_grad)/1e6)\n",
    "print(sum(p.numel() for p in googlenet.parameters() if p.requires_grad)/1e6)\n",
    "print(sum(p.numel() for p in shufflenet.parameters() if p.requires_grad)/1e6)\n",
    "print(sum(p.numel() for p in mobilenet.parameters() if p.requires_grad)/1e6)\n",
    "print(sum(p.numel() for p in resnext50_32x4d.parameters() if p.requires_grad)/1e6)"
   ]
  },
  {
   "cell_type": "code",
   "execution_count": 27,
   "metadata": {},
   "outputs": [
    {
     "name": "stdout",
     "output_type": "stream",
     "text": [
      "0.006727695465087891\n",
      "torch.Size([1, 512, 32, 32])\n"
     ]
    }
   ],
   "source": [
    "import time\n",
    "\n",
    "device = torch.device(\"cuda\" if torch.cuda.is_available() else \"cpu\")\n",
    "\n",
    "model = models.squeezenet1_0(pretrained=True).to(device)\n",
    "# print(model)\n",
    "\n",
    "img = torch.zeros(1, 3, 520, 520).to(device)\n",
    "\n",
    "t1 = time.time()\n",
    "output = model.features(img)\n",
    "t2 = time.time()\n",
    "print(t2 - t1)\n",
    "\n",
    "print(output.size())"
   ]
  },
  {
   "cell_type": "code",
   "execution_count": null,
   "metadata": {},
   "outputs": [],
   "source": []
  }
 ],
 "metadata": {
  "kernelspec": {
   "display_name": "Python 3",
   "language": "python",
   "name": "python3"
  },
  "language_info": {
   "codemirror_mode": {
    "name": "ipython",
    "version": 3
   },
   "file_extension": ".py",
   "mimetype": "text/x-python",
   "name": "python",
   "nbconvert_exporter": "python",
   "pygments_lexer": "ipython3",
   "version": "3.7.3"
  }
 },
 "nbformat": 4,
 "nbformat_minor": 2
}
